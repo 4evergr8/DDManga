{
  "metadata": {
    "kernelspec": {
      "name": "python3",
      "display_name": "Python 3",
      "language": "python"
    },
    "language_info": {
      "name": "python",
      "version": "3.11.11",
      "mimetype": "text/x-python",
      "codemirror_mode": {
        "name": "ipython",
        "version": 3
      },
      "pygments_lexer": "ipython3",
      "nbconvert_exporter": "python",
      "file_extension": ".py"
    },
    "accelerator": "GPU",
    "colab": {
      "provenance": [],
      "gpuType": "T4",
      "name": "ddcolor"
    },
    "kaggle": {
      "accelerator": "none",
      "dataSources": [],
      "dockerImageVersionId": 31041,
      "isInternetEnabled": true,
      "language": "python",
      "sourceType": "notebook",
      "isGpuEnabled": false
    }
  },
  "nbformat_minor": 0,
  "nbformat": 4,
  "cells": [
    {
      "cell_type": "code",
      "source": [
        "!pip install ktoolbox\n",
        "!mkdir -p /kaggle/working/ktoolbox && \\\n",
        "cd /kaggle/working/ktoolbox && \\\n",
        "ktoolbox sync-creator https://kemono.su/fanbox/user/5850450\n"
      ],
      "metadata": {
        "trusted": true,
        "id": "CYaQR5vuMzLZ"
      },
      "outputs": [],
      "execution_count": null
    },
    {
      "cell_type": "code",
      "source": [
        "import os\n",
        "import shutil\n",
        "\n",
        "src_dir = '/kaggle/working/ktoolbox'\n",
        "dst_dir = '/kaggle/working/work'\n",
        "\n",
        "os.makedirs(dst_dir, exist_ok=True)\n",
        "\n",
        "valid_exts = ['.jpg', '.jpeg', '.png', '.webp', '.bmp', '.tiff']\n",
        "\n",
        "for root, _, files in os.walk(src_dir):\n",
        "    for file in files:\n",
        "        ext = os.path.splitext(file)[1].lower()\n",
        "        if ext in valid_exts:\n",
        "            src_path = os.path.join(root, file)\n",
        "            dst_path = os.path.join(dst_dir, file)\n",
        "            shutil.move(src_path, dst_path)\n"
      ],
      "metadata": {
        "trusted": true,
        "id": "i3GAoSW-MzLa"
      },
      "outputs": [],
      "execution_count": null
    },
    {
      "cell_type": "code",
      "source": [
        "import os\n",
        "from PIL import Image, ImageChops\n",
        "\n",
        "def is_color_image(img, threshold=10):\n",
        "    if img.mode != 'RGB':\n",
        "        img = img.convert('RGB')\n",
        "\n",
        "    r, g, b = img.split()\n",
        "    diff_rg = ImageChops.difference(r, g)\n",
        "    diff_rb = ImageChops.difference(r, b)\n",
        "    diff_gb = ImageChops.difference(g, b)\n",
        "\n",
        "    def mean_diff(diff_img):\n",
        "        hist = diff_img.histogram()\n",
        "        pixels = sum(hist)\n",
        "        total = sum(i * hist[i] for i in range(256))\n",
        "        return total / pixels if pixels else 0\n",
        "\n",
        "    mean_rg = mean_diff(diff_rg)\n",
        "    mean_rb = mean_diff(diff_rb)\n",
        "    mean_gb = mean_diff(diff_gb)\n",
        "\n",
        "    if mean_rg > threshold or mean_rb > threshold or mean_gb > threshold:\n",
        "        return True\n",
        "    else:\n",
        "        return False\n",
        "\n",
        "def clean_work_folder():\n",
        "    work_dir = '/kaggle/working/work'\n",
        "    for file in os.listdir(work_dir):\n",
        "        path = os.path.join(work_dir, file)\n",
        "        if not file.lower().endswith(('.jpg', '.jpeg', '.png')):\n",
        "            os.remove(path)\n",
        "            continue\n",
        "        try:\n",
        "            with Image.open(path) as img:\n",
        "                if img.width < 256 or img.height < 256 or not is_color_image(img):\n",
        "                    img.close()\n",
        "                    os.remove(path)\n",
        "        except Exception as e:\n",
        "            print(f\"处理失败: {path}，错误：{e}\")\n",
        "            if os.path.exists(path):\n",
        "                os.remove(path)\n",
        "\n",
        "if __name__ == '__main__':\n",
        "    clean_work_folder()\n"
      ],
      "metadata": {
        "trusted": true,
        "id": "NPB1CmROMzLb"
      },
      "outputs": [],
      "execution_count": null
    },
    {
      "cell_type": "code",
      "source": [
        "import os\n",
        "from PIL import Image\n",
        "import imagehash\n",
        "from tqdm import tqdm\n",
        "\n",
        "# 获取当前脚本所在文件夹路径\n",
        "image_folder = '/kaggle/working/work'\n",
        "hash_func = imagehash.phash\n",
        "threshold = 8\n",
        "\n",
        "hash_dict = {}\n",
        "visited = set()\n",
        "similar_groups = []\n",
        "\n",
        "print(\"计算图片哈希中...\")\n",
        "for filename in tqdm(os.listdir(image_folder)):\n",
        "    if not filename.lower().endswith(('.png', '.jpg', '.jpeg', '.bmp', '.webp')):\n",
        "        continue\n",
        "    filepath = os.path.join(image_folder, filename)\n",
        "    try:\n",
        "        with Image.open(filepath) as img:\n",
        "            h = hash_func(img)\n",
        "            hash_dict[filename] = h\n",
        "    except Exception:\n",
        "        continue\n",
        "\n",
        "print(\"查找相似图片中...\")\n",
        "filenames = list(hash_dict.keys())\n",
        "for i in tqdm(range(len(filenames))):\n",
        "    if filenames[i] in visited:\n",
        "        continue\n",
        "    group = [filenames[i]]\n",
        "    visited.add(filenames[i])\n",
        "    for j in range(i+1, len(filenames)):\n",
        "        if filenames[j] in visited:\n",
        "            continue\n",
        "        if hash_dict[filenames[i]] - hash_dict[filenames[j]] <= threshold:\n",
        "            group.append(filenames[j])\n",
        "            visited.add(filenames[j])\n",
        "    if len(group) > 1:\n",
        "        similar_groups.append(group)\n",
        "\n",
        "print(f\"发现 {len(similar_groups)} 组相似图片，开始删除...\")\n",
        "for group in similar_groups:\n",
        "    for filename in group[1:]:\n",
        "        try:\n",
        "            os.remove(os.path.join(image_folder, filename))\n",
        "        except Exception:\n",
        "            continue\n",
        "\n",
        "print(\"去重完成。\")\n"
      ],
      "metadata": {
        "trusted": true,
        "id": "TBcCAiVKMzLc"
      },
      "outputs": [],
      "execution_count": null
    },
    {
      "cell_type": "code",
      "source": [
        "import shutil\n",
        "shutil.rmtree(\"/kaggle/working/ktoolbox\")\n",
        "shutil.make_archive('/kaggle/working/result', 'zip', '/kaggle/working/work')\n"
      ],
      "metadata": {
        "trusted": true,
        "id": "wKMyG1xDMzLc"
      },
      "outputs": [],
      "execution_count": null
    }
  ]
}