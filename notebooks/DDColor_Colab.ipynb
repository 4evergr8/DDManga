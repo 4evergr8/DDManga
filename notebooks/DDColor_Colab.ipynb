{
  "cells": [
    {
      "metadata": {
        "id": "JaxlQne46nsU"
      },
      "cell_type": "code",
      "outputs": [],
      "execution_count": null,
      "source": [
        "from google.colab import drive\n",
        "drive.mount('/content/gdrive', force_remount=True)"
      ]
    },
    {
      "cell_type": "code",
      "source": [
        "!git clone https://github.com/4evergr8/Thousand2OneColor /content/DDColor\n",
        "!mkdir -p /content/drive/MyDrive/DDColor\n",
        "!rsync -avh --ignore-existing /content/DDColor/ /content/drive/MyDrive/DDColor/"
      ],
      "metadata": {
        "id": "rFSQIXgst_qO"
      },
      "execution_count": null,
      "outputs": []
    },
    {
      "metadata": {
        "id": "-BWwlBAV6nsY"
      },
      "cell_type": "code",
      "outputs": [],
      "execution_count": null,
      "source": [
        "import os\n",
        "import urllib.request\n",
        "import shutil\n",
        "\n",
        "# 设置路径\n",
        "work_dir = \"/content/drive/MyDrive/DDColor\"\n",
        "pretrain_dir = os.path.join(work_dir, \"pretrain\")\n",
        "tmp_dir = \"/tmp\"\n",
        "os.makedirs(pretrain_dir, exist_ok=True)\n",
        "\n",
        "# 下载链接\n",
        "urls = [\n",
        "    \"https://download.pytorch.org/models/inception_v3_google-1a9a5a14.pth\",\n",
        "    \"https://dl.fbaipublicfiles.com/convnext/convnext_large_22k_224.pth\"\n",
        "]\n",
        "\n",
        "# 下载并移动\n",
        "for url in urls:\n",
        "    filename = url.split(\"/\")[-1]\n",
        "    tmp_path = os.path.join(tmp_dir, filename)\n",
        "    final_path = os.path.join(pretrain_dir, filename)\n",
        "    if not os.path.exists(final_path):\n",
        "        print(f\"下载 {filename} 到 /tmp...\")\n",
        "        urllib.request.urlretrieve(url, tmp_path)\n",
        "        shutil.move(tmp_path, final_path)\n",
        "        print(f\"已移动到 {final_path}\")\n",
        "    else:\n",
        "        print(f\"{filename} 已存在，跳过。\")"
      ]
    },
    {
      "metadata": {
        "id": "GVPsbuJ_XE2G"
      },
      "cell_type": "code",
      "outputs": [],
      "execution_count": null,
      "source": [
        "import os\n",
        "import shutil\n",
        "src_dir = '/content/gdrive/MyDrive/DDColor/train'\n",
        "dst_dir = '/content/DDColor/train'\n",
        "os.makedirs(dst_dir, exist_ok=True)\n",
        "for file_name in os.listdir(src_dir):\n",
        "    if file_name.endswith('.zip'):\n",
        "        src_file = os.path.join(src_dir, file_name)\n",
        "        dst_file = os.path.join(dst_dir, file_name)\n",
        "        shutil.copy2(src_file, dst_file)\n"
      ]
    },
    {
      "metadata": {
        "id": "aaGyaHZEXE2G"
      },
      "cell_type": "code",
      "outputs": [],
      "execution_count": null,
      "source": [
        "import os\n",
        "import shutil\n",
        "src_dir = '/content/gdrive/MyDrive/DDColor/val'\n",
        "dst_dir = '/content/DDColor/val'\n",
        "\n",
        "os.makedirs(dst_dir, exist_ok=True)\n",
        "for file_name in os.listdir(src_dir):\n",
        "    if file_name.endswith('.zip'):\n",
        "        src_file = os.path.join(src_dir, file_name)\n",
        "        dst_file = os.path.join(dst_dir, file_name)\n",
        "        shutil.copy2(src_file, dst_file)\n"
      ]
    },
    {
      "metadata": {
        "id": "38nfrHWeXE2G"
      },
      "cell_type": "code",
      "outputs": [],
      "execution_count": null,
      "source": [
        "%cd /content/DDColor\n",
        "!python3 get_meta_file.py"
      ]
    },
    {
      "cell_type": "code",
      "source": [
        "import os\n",
        "base_path = \"/content/drive/MyDrive/DDColor\"\n",
        "os.chdir(base_path)\n",
        "train_script = os.path.join(base_path, \"basicsr\", \"train.py\")\n",
        "config_file = os.path.join(base_path, 'yml',\"Colab.yml\")\n",
        "command = f'PYTHONPATH=\"{base_path}:$PYTHONPATH\" python3 \"{train_script}\" -opt \"{config_file}\" --auto_resume'\n",
        "!{command}\n"
      ],
      "metadata": {
        "id": "RODewKzQ7Bnu"
      },
      "execution_count": null,
      "outputs": []
    }
  ],
  "metadata": {
    "colab": {
      "provenance": [],
      "gpuType": "T4"
    },
    "kernelspec": {
      "display_name": "Python 3",
      "name": "python3"
    },
    "language_info": {
      "name": "python"
    },
    "accelerator": "GPU"
  },
  "nbformat": 4,
  "nbformat_minor": 0
}