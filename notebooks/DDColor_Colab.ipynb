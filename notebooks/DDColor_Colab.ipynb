{
 "cells": [
  {
   "metadata": {
    "id": "JaxlQne46nsU"
   },
   "cell_type": "code",
   "outputs": [],
   "execution_count": null,
   "source": [
    "from google.colab import drive\n",
    "drive.mount('/content/gdrive', force_remount=True)"
   ]
  },
  {
   "cell_type": "code",
   "source": [
    "!git clone https://github.com/4evergr8/Thousand2OneColor /content/DDColor"
   ],
   "metadata": {
    "id": "rFSQIXgst_qO"
   },
   "execution_count": null,
   "outputs": []
  },
  {
   "metadata": {
    "id": "-BWwlBAV6nsY"
   },
   "cell_type": "code",
   "outputs": [],
   "execution_count": null,
   "source": [
    "import os\n",
    "import urllib.request\n",
    "import shutil\n",
    "\n",
    "# 设置路径\n",
    "work_dir = \"/content/DDColor\"\n",
    "pretrain_dir = os.path.join(work_dir, \"pretrain\")\n",
    "tmp_dir = \"/tmp\"\n",
    "os.makedirs(pretrain_dir, exist_ok=True)\n",
    "\n",
    "# 下载链接\n",
    "urls = [\n",
    "    \"https://download.pytorch.org/models/inception_v3_google-1a9a5a14.pth\",\n",
    "    \"https://dl.fbaipublicfiles.com/convnext/convnext_large_22k_224.pth\"\n",
    "]\n",
    "\n",
    "# 下载并移动\n",
    "for url in urls:\n",
    "    filename = url.split(\"/\")[-1]\n",
    "    tmp_path = os.path.join(tmp_dir, filename)\n",
    "    final_path = os.path.join(pretrain_dir, filename)\n",
    "    if not os.path.exists(final_path):\n",
    "        print(f\"下载 {filename} 到 /tmp...\")\n",
    "        urllib.request.urlretrieve(url, tmp_path)\n",
    "        shutil.move(tmp_path, final_path)\n",
    "        print(f\"已移动到 {final_path}\")\n",
    "    else:\n",
    "        print(f\"{filename} 已存在，跳过。\")"
   ]
  },
  {
   "metadata": {},
   "cell_type": "code",
   "outputs": [],
   "execution_count": null,
   "source": [
    "import os\n",
    "import shutil\n",
    "src_dir = '/content/gdrive/MyDrive/DDColor/train'\n",
    "dst_dir = '/content/DDColor/train'\n",
    "os.makedirs(dst_dir, exist_ok=True)\n",
    "for file_name in os.listdir(src_dir):\n",
    "    if file_name.endswith('.zip'):\n",
    "        src_file = os.path.join(src_dir, file_name)\n",
    "        dst_file = os.path.join(dst_dir, file_name)\n",
    "        shutil.copy2(src_file, dst_file)\n"
   ]
  },
  {
   "metadata": {},
   "cell_type": "code",
   "outputs": [],
   "execution_count": null,
   "source": [
    "import os\n",
    "import shutil\n",
    "src_dir = '/content/gdrive/MyDrive/DDColor/val'\n",
    "dst_dir = '/content/DDColor/val'\n",
    "\n",
    "os.makedirs(dst_dir, exist_ok=True)\n",
    "for file_name in os.listdir(src_dir):\n",
    "    if file_name.endswith('.zip'):\n",
    "        src_file = os.path.join(src_dir, file_name)\n",
    "        dst_file = os.path.join(dst_dir, file_name)\n",
    "        shutil.copy2(src_file, dst_file)\n"
   ]
  },
  {
   "metadata": {},
   "cell_type": "code",
   "outputs": [],
   "execution_count": null,
   "source": [
    "%cd /content/DDColor\n",
    "!python3 get_meta_file.py\n",
    "!find /content/DDColor/train -type f -name \"*.zip\" -delete"
   ]
  },
  {
   "metadata": {},
   "cell_type": "code",
   "outputs": [],
   "execution_count": null,
   "source": [
    "import os\n",
    "import shutil\n",
    "\n",
    "dst_root = '/content/DDColor/expirement'\n",
    "src_root = '/content/gdrive/MyDrive/DDColor/expirement'\n",
    "\n",
    "# 要跳过的扩展名\n",
    "skip_exts = {'.exe', '.tmp', '.jpg'}  # 例如，添加你想跳过的扩展名\n",
    "\n",
    "for root, dirs, files in os.walk(src_root):\n",
    "    # 计算当前目录相对于源目录的相对路径\n",
    "    rel_path = os.path.relpath(root, src_root)\n",
    "    dst_dir = os.path.join(dst_root, rel_path)\n",
    "\n",
    "    # 确保目标目录存在\n",
    "    os.makedirs(dst_dir, exist_ok=True)\n",
    "\n",
    "    for file in files:\n",
    "        ext = os.path.splitext(file)[1].lower()\n",
    "        if ext in skip_exts:\n",
    "            continue  # 跳过指定扩展名文件\n",
    "        src_file = os.path.join(root, file)\n",
    "        dst_file = os.path.join(dst_dir, file)\n",
    "        shutil.copy2(src_file, dst_file)\n"
   ]
  },
  {
   "cell_type": "code",
   "source": [
    "import os\n",
    "base_path = \"/content/DDColor\"\n",
    "os.chdir(base_path)\n",
    "train_script = os.path.join(base_path, \"basicsr\", \"train.py\")\n",
    "config_file = os.path.join(base_path, \"Colab.yml\")\n",
    "command = f'PYTHONPATH=\"{base_path}:$PYTHONPATH\" python3 \"{train_script}\" -opt \"{config_file}\" --auto_resume'\n",
    "!{command}\n"
   ],
   "metadata": {
    "id": "RODewKzQ7Bnu"
   },
   "execution_count": null,
   "outputs": []
  },
  {
   "metadata": {},
   "cell_type": "code",
   "outputs": [],
   "execution_count": null,
   "source": [
    "import os\n",
    "import shutil\n",
    "\n",
    "src_root = '/content/DDColor/expirement'\n",
    "dst_root = '/content/gdrive/MyDrive/DDColor/expirement'\n",
    "\n",
    "# 要跳过的扩展名\n",
    "skip_exts = {'.exe', '.tmp', '.jpg'}  # 例如，添加你想跳过的扩展名\n",
    "\n",
    "for root, dirs, files in os.walk(src_root):\n",
    "    # 计算当前目录相对于源目录的相对路径\n",
    "    rel_path = os.path.relpath(root, src_root)\n",
    "    dst_dir = os.path.join(dst_root, rel_path)\n",
    "\n",
    "    # 确保目标目录存在\n",
    "    os.makedirs(dst_dir, exist_ok=True)\n",
    "\n",
    "    for file in files:\n",
    "        ext = os.path.splitext(file)[1].lower()\n",
    "        if ext in skip_exts:\n",
    "            continue  # 跳过指定扩展名文件\n",
    "        src_file = os.path.join(root, file)\n",
    "        dst_file = os.path.join(dst_dir, file)\n",
    "        shutil.copy2(src_file, dst_file)\n"
   ]
  }
 ],
 "metadata": {
  "colab": {
   "provenance": []
  },
  "kernelspec": {
   "display_name": "Python 3",
   "name": "python3"
  },
  "language_info": {
   "name": "python"
  }
 },
 "nbformat": 4,
 "nbformat_minor": 0
}
