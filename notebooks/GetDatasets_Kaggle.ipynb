{
 "cells": [
  {
   "cell_type": "code",
   "execution_count": null,
   "metadata": {
    "id": "CYaQR5vuMzLZ"
   },
   "outputs": [],
   "source": [
    "!pip install ktoolbox imagehash\n",
    "import os\n",
    "import subprocess\n",
    "\n",
    "\n",
    "os.makedirs('/kaggle/temp/ktoolbox', exist_ok=True)\n",
    "\n",
    "\n",
    "cmd = [\n",
    "    'ktoolbox', 'sync-creator',\n",
    "    'https://kemono.su/fanbox/user/49494721'\n",
    "]\n",
    "\n",
    "subprocess.run(cmd, cwd='/kaggle/temp/ktoolbox', stdout=open('ktoolbox.log', 'w'), stderr=subprocess.STDOUT)\n"
   ]
  },
  {
   "cell_type": "code",
   "execution_count": 13,
   "metadata": {
    "id": "i3GAoSW-MzLa"
   },
   "outputs": [],
   "source": [
    "import os\n",
    "import shutil\n",
    "\n",
    "src_dir = '/kaggle/temp/ktoolbox'\n",
    "dst_dir = '/kaggle/temp/work'\n",
    "\n",
    "os.makedirs(dst_dir, exist_ok=True)\n",
    "\n",
    "valid_exts = ['.jpg', '.jpeg', '.png', '.webp', '.bmp', '.tiff']\n",
    "\n",
    "for root, _, files in os.walk(src_dir):\n",
    "    for file in files:\n",
    "        ext = os.path.splitext(file)[1].lower()\n",
    "        if ext in valid_exts:\n",
    "            src_path = os.path.join(root, file)\n",
    "            dst_path = os.path.join(dst_dir, file)\n",
    "            shutil.move(src_path, dst_path)\n"
   ]
  },
  {
   "cell_type": "code",
   "execution_count": null,
   "metadata": {
    "id": "ZX4n4L5IV9uV"
   },
   "outputs": [],
   "source": [
    "import shutil\n",
    "shutil.rmtree(\"/kaggle/temp/ktoolbox\")"
   ]
  },
  {
   "cell_type": "code",
   "execution_count": null,
   "metadata": {
    "id": "wKMyG1xDMzLc"
   },
   "outputs": [],
   "source": [
    "import os\n",
    "import shutil\n",
    "\n",
    "# 第一个操作：保存到本地 /content 目录\n",
    "result_zip_path = '/kaggle/working/result.zip'\n",
    "if os.path.exists(result_zip_path):\n",
    "    os.remove(result_zip_path)\n",
    "\n",
    "shutil.make_archive('/kaggle/working/result', 'zip', '/kaggle/temp/work')"
   ]
  }
 ],
 "metadata": {
  "colab": {
   "provenance": []
  },
  "kaggle": {
   "accelerator": "none",
   "dataSources": [],
   "dockerImageVersionId": 31041,
   "isGpuEnabled": false,
   "isInternetEnabled": true,
   "language": "python",
   "sourceType": "notebook"
  },
  "kernelspec": {
   "display_name": "Python 3",
   "name": "python3"
  },
  "language_info": {
   "codemirror_mode": {
    "name": "ipython",
    "version": 3
   },
   "file_extension": ".py",
   "mimetype": "text/x-python",
   "name": "python",
   "nbconvert_exporter": "python",
   "pygments_lexer": "ipython3",
   "version": "3.11.11"
  }
 },
 "nbformat": 4,
 "nbformat_minor": 0
}
