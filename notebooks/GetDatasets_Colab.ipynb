{
 "cells": [
  {
   "cell_type": "code",
   "execution_count": null,
   "metadata": {
    "id": "q1GpLQIjXc8Q"
   },
   "outputs": [],
   "source": [
    "from google.colab import drive\n",
    "drive.mount('/content/gdrive', force_remount=True)"
   ]
  },
  {
   "cell_type": "code",
   "execution_count": null,
   "metadata": {
    "id": "CYaQR5vuMzLZ"
   },
   "outputs": [],
   "source": [
    "!pip install ktoolbox imagehash tqdm\n",
    "import os\n",
    "import subprocess\n",
    "\n",
    "\n",
    "os.makedirs('/content/ktoolbox', exist_ok=True)\n",
    "\n",
    "\n",
    "cmd = [\n",
    "    'ktoolbox', 'sync-creator',\n",
    "    'https://kemono.su/fanbox/user/5850450'\n",
    "]\n",
    "\n",
    "subprocess.run(cmd, cwd='/content/ktoolbox', stdout=open('ktoolbox.log', 'w'), stderr=subprocess.STDOUT)\n"
   ]
  },
  {
   "cell_type": "code",
   "execution_count": 13,
   "metadata": {
    "id": "i3GAoSW-MzLa"
   },
   "outputs": [],
   "source": [
    "import os\n",
    "import shutil\n",
    "\n",
    "src_dir = '/content/ktoolbox'\n",
    "dst_dir = '/content/work'\n",
    "\n",
    "os.makedirs(dst_dir, exist_ok=True)\n",
    "\n",
    "valid_exts = ['.jpg', '.jpeg', '.png', '.webp', '.bmp', '.tiff']\n",
    "\n",
    "for root, _, files in os.walk(src_dir):\n",
    "    for file in files:\n",
    "        ext = os.path.splitext(file)[1].lower()\n",
    "        if ext in valid_exts:\n",
    "            src_path = os.path.join(root, file)\n",
    "            dst_path = os.path.join(dst_dir, file)\n",
    "            shutil.move(src_path, dst_path)\n"
   ]
  },
  {
   "cell_type": "code",
   "execution_count": null,
   "metadata": {
    "id": "ZX4n4L5IV9uV"
   },
   "outputs": [],
   "source": [
    "import shutil\n",
    "shutil.rmtree(\"/content/ktoolbox\")"
   ]
  },
  {
   "cell_type": "code",
   "execution_count": null,
   "metadata": {
    "id": "wKMyG1xDMzLc"
   },
   "outputs": [],
   "source": [
    "import os\n",
    "import shutil\n",
    "\n",
    "# 第一个操作：保存到本地 /content 目录\n",
    "result_zip_path = '/content/result.zip'\n",
    "if os.path.exists(result_zip_path):\n",
    "    os.remove(result_zip_path)\n",
    "\n",
    "shutil.make_archive('/content/result', 'zip', '/content/work')\n",
    "\n",
    "\n",
    "# 第二个操作：保存到 Google Drive 子目录\n",
    "drive_result_zip_path = '/content/gdrive/result.zip.zip'  # 注意此处会自动加 .zip\n",
    "if os.path.exists(drive_result_zip_path):\n",
    "    os.remove(drive_result_zip_path)\n",
    "\n",
    "shutil.make_archive('/content/gdrive/result.zip', 'zip', '/content/work')\n",
    "\n"
   ]
  }
 ],
 "metadata": {
  "colab": {
   "provenance": []
  },
  "kaggle": {
   "accelerator": "none",
   "dataSources": [],
   "dockerImageVersionId": 31041,
   "isGpuEnabled": false,
   "isInternetEnabled": true,
   "language": "python",
   "sourceType": "notebook"
  },
  "kernelspec": {
   "display_name": "Python 3",
   "name": "python3"
  },
  "language_info": {
   "codemirror_mode": {
    "name": "ipython",
    "version": 3
   },
   "file_extension": ".py",
   "mimetype": "text/x-python",
   "name": "python",
   "nbconvert_exporter": "python",
   "pygments_lexer": "ipython3",
   "version": "3.11.11"
  }
 },
 "nbformat": 4,
 "nbformat_minor": 0
}
