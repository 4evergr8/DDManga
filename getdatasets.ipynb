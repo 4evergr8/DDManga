{
  "metadata": {
    "kernelspec": {
      "name": "python3",
      "display_name": "Python 3",
      "language": "python"
    },
    "language_info": {
      "name": "python",
      "version": "3.11.11",
      "mimetype": "text/x-python",
      "codemirror_mode": {
        "name": "ipython",
        "version": 3
      },
      "pygments_lexer": "ipython3",
      "nbconvert_exporter": "python",
      "file_extension": ".py"
    },
    "accelerator": "GPU",
    "colab": {
      "provenance": [],
      "gpuType": "T4",
      "name": "GetDatasets"
    },
    "kaggle": {
      "accelerator": "none",
      "dataSources": [],
      "dockerImageVersionId": 31011,
      "isInternetEnabled": true,
      "language": "python",
      "sourceType": "notebook",
      "isGpuEnabled": false
    }
  },
  "nbformat_minor": 0,
  "nbformat": 4,
  "cells": [
    {
      "cell_type": "code",
      "source": [
        "!pip install ktoolbox\n",
        "!mkdir -p /kaggle/working/ktoolbox && \\\n",
        "cd /kaggle/working/ktoolbox && \\\n",
        "ktoolbox sync-creator https://kemono.su/fanbox/user/49494721\n"
      ],
      "metadata": {
        "trusted": true,
        "id": "tsHOtRceBwxE"
      },
      "outputs": [],
      "execution_count": null
    },
    {
      "cell_type": "code",
      "source": [
        "import os\n",
        "import shutil\n",
        "\n",
        "src_dir = '/kaggle/working/ktoolbox'\n",
        "dst_dir = '/kaggle/working/work'\n",
        "\n",
        "os.makedirs(dst_dir, exist_ok=True)\n",
        "\n",
        "valid_exts = ['.jpg', '.jpeg', '.png']\n",
        "\n",
        "for root, _, files in os.walk(src_dir):\n",
        "    for file in files:\n",
        "        ext = os.path.splitext(file)[1].lower()\n",
        "        if ext in valid_exts:\n",
        "            src_path = os.path.join(root, file)\n",
        "            dst_path = os.path.join(dst_dir, file)\n",
        "            shutil.move(src_path, dst_path)\n"
      ],
      "metadata": {
        "trusted": true,
        "id": "ly9Df937BwxF"
      },
      "outputs": [],
      "execution_count": null
    },
    {
      "cell_type": "code",
      "source": [
        "import os\n",
        "from PIL import Image, ImageChops\n",
        "\n",
        "def is_color_image(img, threshold=10):\n",
        "    if img.mode != 'RGB':\n",
        "        img = img.convert('RGB')\n",
        "\n",
        "    r, g, b = img.split()\n",
        "    diff_rg = ImageChops.difference(r, g)\n",
        "    diff_rb = ImageChops.difference(r, b)\n",
        "    diff_gb = ImageChops.difference(g, b)\n",
        "\n",
        "    def mean_diff(diff_img):\n",
        "        hist = diff_img.histogram()\n",
        "        pixels = sum(hist)\n",
        "        total = sum(i * hist[i] for i in range(256))\n",
        "        return total / pixels if pixels else 0\n",
        "\n",
        "    mean_rg = mean_diff(diff_rg)\n",
        "    mean_rb = mean_diff(diff_rb)\n",
        "    mean_gb = mean_diff(diff_gb)\n",
        "\n",
        "    if mean_rg > threshold or mean_rb > threshold or mean_gb > threshold:\n",
        "        return True\n",
        "    else:\n",
        "        return False\n",
        "\n",
        "def clean_work_folder():\n",
        "    work_dir = '/kaggle/working/work'\n",
        "    for file in os.listdir(work_dir):\n",
        "        path = os.path.join(work_dir, file)\n",
        "        if not file.lower().endswith(('.jpg', '.jpeg', '.png')):\n",
        "            os.remove(path)\n",
        "            continue\n",
        "        try:\n",
        "            with Image.open(path) as img:\n",
        "                if img.width < 256 or img.height < 256 or not is_color_image(img):\n",
        "                    img.close()\n",
        "                    os.remove(path)\n",
        "        except Exception as e:\n",
        "            print(f\"处理失败: {path}，错误：{e}\")\n",
        "            if os.path.exists(path):\n",
        "                os.remove(path)\n",
        "\n",
        "if __name__ == '__main__':\n",
        "    clean_work_folder()\n"
      ],
      "metadata": {
        "trusted": true,
        "id": "m1XXcuIuBwxG"
      },
      "outputs": [],
      "execution_count": null
    },
    {
      "cell_type": "code",
      "source": [
        "import shutil\n",
        "shutil.rmtree(\"/kaggle/working/ktoolbox\")\n",
        "shutil.make_archive('/kaggle/working/result', 'zip', '/kaggle/working/work')\n"
      ],
      "metadata": {
        "trusted": true,
        "id": "b_cHvqKPBwxH"
      },
      "outputs": [],
      "execution_count": null
    }
  ]
}